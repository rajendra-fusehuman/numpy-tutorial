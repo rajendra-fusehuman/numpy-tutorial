{
  "nbformat": 4,
  "nbformat_minor": 0,
  "metadata": {
    "colab": {
      "provenance": []
    },
    "kernelspec": {
      "name": "python3",
      "display_name": "Python 3"
    },
    "language_info": {
      "name": "python"
    }
  },
  "cells": [
    {
      "cell_type": "code",
      "execution_count": null,
      "metadata": {
        "id": "G7dusBPdZGiW"
      },
      "outputs": [],
      "source": [
        "import numpy as np"
      ]
    },
    {
      "cell_type": "markdown",
      "source": [
        "# Zeros, Ones and full"
      ],
      "metadata": {
        "id": "47vhvppZZuvY"
      }
    },
    {
      "cell_type": "code",
      "source": [
        "np.zeros((3,2))"
      ],
      "metadata": {
        "colab": {
          "base_uri": "https://localhost:8080/"
        },
        "id": "VNnlYabHZLeQ",
        "outputId": "4d148d98-4bab-4fb9-9006-11944d1c5714"
      },
      "execution_count": null,
      "outputs": [
        {
          "output_type": "execute_result",
          "data": {
            "text/plain": [
              "array([[0., 0.],\n",
              "       [0., 0.],\n",
              "       [0., 0.]])"
            ]
          },
          "metadata": {},
          "execution_count": 2
        }
      ]
    },
    {
      "cell_type": "code",
      "source": [
        "np.ones((3, 2))"
      ],
      "metadata": {
        "colab": {
          "base_uri": "https://localhost:8080/"
        },
        "id": "eGDNRsvpZzw-",
        "outputId": "f9477a7d-e7c6-4cf8-915f-f87fd9c38609"
      },
      "execution_count": null,
      "outputs": [
        {
          "output_type": "execute_result",
          "data": {
            "text/plain": [
              "array([[1., 1.],\n",
              "       [1., 1.],\n",
              "       [1., 1.]])"
            ]
          },
          "metadata": {},
          "execution_count": 3
        }
      ]
    },
    {
      "cell_type": "code",
      "source": [
        "np.full((3,2), 3.14)"
      ],
      "metadata": {
        "colab": {
          "base_uri": "https://localhost:8080/"
        },
        "id": "j4c6lykzeisn",
        "outputId": "76859864-b363-4228-c541-08cad8424a08"
      },
      "execution_count": null,
      "outputs": [
        {
          "output_type": "execute_result",
          "data": {
            "text/plain": [
              "array([[3.14, 3.14],\n",
              "       [3.14, 3.14],\n",
              "       [3.14, 3.14]])"
            ]
          },
          "metadata": {},
          "execution_count": 7
        }
      ]
    },
    {
      "cell_type": "markdown",
      "source": [
        "# linspace, arange\n",
        "\n",
        "### linspace: Returns evenly spaced numbers over a specified interval\n",
        "### arange: Returns evenly spaced values within a given interval\n",
        "\n"
      ],
      "metadata": {
        "id": "SPDGZVXmZ3b5"
      }
    },
    {
      "cell_type": "code",
      "source": [
        "np.arange(start=0, stop=5, step=0.5)"
      ],
      "metadata": {
        "colab": {
          "base_uri": "https://localhost:8080/"
        },
        "id": "ORxoSMNGZ2MC",
        "outputId": "db9fc985-3c42-4b6b-f6ca-d0e9a804bf1c"
      },
      "execution_count": null,
      "outputs": [
        {
          "output_type": "execute_result",
          "data": {
            "text/plain": [
              "array([0. , 0.5, 1. , 1.5, 2. , 2.5, 3. , 3.5, 4. , 4.5])"
            ]
          },
          "metadata": {},
          "execution_count": 4
        }
      ]
    },
    {
      "cell_type": "code",
      "source": [
        "np.linspace(start=0, stop=5, num=10, endpoint=False)"
      ],
      "metadata": {
        "colab": {
          "base_uri": "https://localhost:8080/"
        },
        "id": "TP9-Z3H2cq9k",
        "outputId": "fe362d4f-415c-406f-940c-ff0d8cc30a7a"
      },
      "execution_count": null,
      "outputs": [
        {
          "output_type": "execute_result",
          "data": {
            "text/plain": [
              "array([0. , 0.5, 1. , 1.5, 2. , 2.5, 3. , 3.5, 4. , 4.5])"
            ]
          },
          "metadata": {},
          "execution_count": 6
        }
      ]
    },
    {
      "cell_type": "markdown",
      "source": [],
      "metadata": {
        "id": "q_6_OxvaeV_T"
      }
    },
    {
      "cell_type": "markdown",
      "source": [
        "# Random"
      ],
      "metadata": {
        "id": "aBovL8ntesXX"
      }
    },
    {
      "cell_type": "markdown",
      "source": [
        "### 1) np.random.rand: generates random numbers uniformly distributed over the interval [0, 1)"
      ],
      "metadata": {
        "id": "GgqW1BOpfEUi"
      }
    },
    {
      "cell_type": "code",
      "source": [
        "np.random.rand(3, 2)"
      ],
      "metadata": {
        "colab": {
          "base_uri": "https://localhost:8080/"
        },
        "id": "9MtTcMwwdQUd",
        "outputId": "c0443168-f6cc-40f2-dfd8-ce04db32682e"
      },
      "execution_count": null,
      "outputs": [
        {
          "output_type": "execute_result",
          "data": {
            "text/plain": [
              "array([[0.90816742, 0.88299123],\n",
              "       [0.6408706 , 0.39836097],\n",
              "       [0.57379797, 0.37180781]])"
            ]
          },
          "metadata": {},
          "execution_count": 8
        }
      ]
    },
    {
      "cell_type": "markdown",
      "source": [
        "2) np.random.randn: generates random numbers from a standard normal distribution (mean 0 and variance 1)"
      ],
      "metadata": {
        "id": "YLwfUexFfPUD"
      }
    },
    {
      "cell_type": "code",
      "source": [
        "np.random.randn(3, 2)"
      ],
      "metadata": {
        "colab": {
          "base_uri": "https://localhost:8080/"
        },
        "id": "L-gjYreVfMnZ",
        "outputId": "67a8f207-f2a0-4fab-a935-b9650be23f2b"
      },
      "execution_count": null,
      "outputs": [
        {
          "output_type": "execute_result",
          "data": {
            "text/plain": [
              "array([[ 1.00908648, -0.55758   ],\n",
              "       [-1.52233048, -0.60400903],\n",
              "       [-1.68895267, -1.44524171]])"
            ]
          },
          "metadata": {},
          "execution_count": 9
        }
      ]
    },
    {
      "cell_type": "markdown",
      "source": [
        "### 3) np.random.randint: This function generates random integers from a specified low (inclusive) to high (exclusive) range"
      ],
      "metadata": {
        "id": "TbRYHBSYfbB-"
      }
    },
    {
      "cell_type": "code",
      "source": [
        "np.random.randint(1, 10, size=(3,2))"
      ],
      "metadata": {
        "colab": {
          "base_uri": "https://localhost:8080/"
        },
        "id": "WfQzvtfwfXKl",
        "outputId": "ee71c5da-a8e5-46df-f177-9b0fa3f23072"
      },
      "execution_count": null,
      "outputs": [
        {
          "output_type": "execute_result",
          "data": {
            "text/plain": [
              "array([[6, 2],\n",
              "       [1, 1],\n",
              "       [8, 7]])"
            ]
          },
          "metadata": {},
          "execution_count": 10
        }
      ]
    },
    {
      "cell_type": "markdown",
      "source": [
        "### 4) np.random.random: This function generates random floats in the half-open interval [0.0, 1.0)"
      ],
      "metadata": {
        "id": "dXEn6AkYf9JI"
      }
    },
    {
      "cell_type": "code",
      "source": [
        "np.random.random((3,2))"
      ],
      "metadata": {
        "colab": {
          "base_uri": "https://localhost:8080/"
        },
        "id": "Y3cOCN0ffloG",
        "outputId": "db3bd65d-3022-4c01-d50c-85280fdb574b"
      },
      "execution_count": null,
      "outputs": [
        {
          "output_type": "execute_result",
          "data": {
            "text/plain": [
              "array([[0.95651855, 0.93936584],\n",
              "       [0.40304059, 0.63289178],\n",
              "       [0.89350892, 0.45823557]])"
            ]
          },
          "metadata": {},
          "execution_count": 13
        }
      ]
    },
    {
      "cell_type": "markdown",
      "source": [
        "### 5) np.random.choice: This function generates a random sample from a given 1-D array"
      ],
      "metadata": {
        "id": "rQiLP144gCVZ"
      }
    },
    {
      "cell_type": "code",
      "source": [
        "array = np.array([1, 2, 3, 4, 5])\n",
        "np.random.choice(array, size=(3, 2))"
      ],
      "metadata": {
        "colab": {
          "base_uri": "https://localhost:8080/"
        },
        "id": "WR2CwvhQf5Yh",
        "outputId": "a0739e23-d441-4fd0-dd9b-89b1e9f2067c"
      },
      "execution_count": null,
      "outputs": [
        {
          "output_type": "execute_result",
          "data": {
            "text/plain": [
              "array([[2, 3],\n",
              "       [5, 2],\n",
              "       [3, 5]])"
            ]
          },
          "metadata": {},
          "execution_count": 15
        }
      ]
    },
    {
      "cell_type": "markdown",
      "source": [
        "### 6) np.random.shuffle: This function shuffles the elements of an array in place."
      ],
      "metadata": {
        "id": "2aVL1wu23LtD"
      }
    },
    {
      "cell_type": "code",
      "source": [
        "array = np.array([1, 2, 3, 4, 5])\n",
        "np.random.shuffle(array)\n",
        "array"
      ],
      "metadata": {
        "id": "7QOyqQUKgW8u",
        "colab": {
          "base_uri": "https://localhost:8080/"
        },
        "outputId": "7458ed34-9217-425b-f2a8-fad5dfc21934"
      },
      "execution_count": null,
      "outputs": [
        {
          "output_type": "execute_result",
          "data": {
            "text/plain": [
              "array([2, 3, 1, 5, 4])"
            ]
          },
          "metadata": {},
          "execution_count": 5
        }
      ]
    },
    {
      "cell_type": "markdown",
      "source": [
        "### 7) np.random.normal: This function generates random numbers from a normal (Gaussian) distribution"
      ],
      "metadata": {
        "id": "AAjI88Oj4WZW"
      }
    },
    {
      "cell_type": "code",
      "source": [
        "np.random.normal(loc=0.0, scale=1.0, size=(3,2))"
      ],
      "metadata": {
        "colab": {
          "base_uri": "https://localhost:8080/"
        },
        "id": "GZ7eAdDG3Szy",
        "outputId": "c8c4b46a-fff7-48d0-d194-879a10acff33"
      },
      "execution_count": null,
      "outputs": [
        {
          "output_type": "execute_result",
          "data": {
            "text/plain": [
              "array([[ 1.66315056,  0.11650381],\n",
              "       [-0.63446541, -1.73889932],\n",
              "       [-1.68838656,  0.06555748]])"
            ]
          },
          "metadata": {},
          "execution_count": 6
        }
      ]
    },
    {
      "cell_type": "markdown",
      "source": [
        "### 8) np.random.uniform: This function generates random numbers from a uniform distribution."
      ],
      "metadata": {
        "id": "-OZdV4eT43R5"
      }
    },
    {
      "cell_type": "code",
      "source": [
        "np.random.uniform(low=0.0, high=1.0, size=(3,2))"
      ],
      "metadata": {
        "colab": {
          "base_uri": "https://localhost:8080/"
        },
        "id": "OawsXmao4lwc",
        "outputId": "8ed414b6-2218-4404-881a-44be10585ec0"
      },
      "execution_count": null,
      "outputs": [
        {
          "output_type": "execute_result",
          "data": {
            "text/plain": [
              "array([[0.73486654, 0.63029511],\n",
              "       [0.15085302, 0.35271083],\n",
              "       [0.47465901, 0.40646921]])"
            ]
          },
          "metadata": {},
          "execution_count": 8
        }
      ]
    },
    {
      "cell_type": "code",
      "source": [
        "arr = np.array([1,2,3,4,5])\n",
        "arr[::-1]"
      ],
      "metadata": {
        "colab": {
          "base_uri": "https://localhost:8080/"
        },
        "id": "nYzvVqxA5EDQ",
        "outputId": "69564ba8-5597-4af5-960c-4c421dd2d655"
      },
      "execution_count": null,
      "outputs": [
        {
          "output_type": "execute_result",
          "data": {
            "text/plain": [
              "array([5, 4, 3, 2, 1])"
            ]
          },
          "metadata": {},
          "execution_count": 9
        }
      ]
    },
    {
      "cell_type": "markdown",
      "source": [
        "# Indexing and Slicing"
      ],
      "metadata": {
        "id": "Ta6VWWwJG1p6"
      }
    },
    {
      "cell_type": "markdown",
      "source": [
        "## Indexing: Accessing each element of an array"
      ],
      "metadata": {
        "id": "4EYBlxx9HLcP"
      }
    },
    {
      "cell_type": "code",
      "source": [
        "arr = np.array([1, 2, 3, 4, 5])\n",
        "print(arr[0])\n",
        "print(arr[-1])"
      ],
      "metadata": {
        "colab": {
          "base_uri": "https://localhost:8080/"
        },
        "id": "VqXpsgLa5ZsK",
        "outputId": "e9e8317a-d5dd-4fac-9b9a-ae773e4e3ab2"
      },
      "execution_count": null,
      "outputs": [
        {
          "output_type": "stream",
          "name": "stdout",
          "text": [
            "1\n",
            "5\n"
          ]
        }
      ]
    },
    {
      "cell_type": "code",
      "source": [
        "arr = np.array([[1, 2, 3],\n",
        "                [4, 5, 6],\n",
        "                [7, 8, 9]])\n",
        "print(arr[0, 1])"
      ],
      "metadata": {
        "colab": {
          "base_uri": "https://localhost:8080/"
        },
        "id": "s0Mw85BCHRQZ",
        "outputId": "bddd01c3-6dee-4430-9b9b-347eb5ad218d"
      },
      "execution_count": null,
      "outputs": [
        {
          "output_type": "stream",
          "name": "stdout",
          "text": [
            "2\n"
          ]
        }
      ]
    },
    {
      "cell_type": "markdown",
      "source": [
        "## Slicing"
      ],
      "metadata": {
        "id": "j57p1r2MHbtl"
      }
    },
    {
      "cell_type": "code",
      "source": [
        "arr = np.array([1, 2, 3, 4, 5])\n",
        "print(arr[1:4])\n",
        "print(arr[:3])\n",
        "print(arr[3:])\n",
        "print(arr[::2])"
      ],
      "metadata": {
        "colab": {
          "base_uri": "https://localhost:8080/"
        },
        "id": "LZvV5rirHYrN",
        "outputId": "c226a3f3-defc-4d6a-dc4b-e6382a2fcdce"
      },
      "execution_count": null,
      "outputs": [
        {
          "output_type": "stream",
          "name": "stdout",
          "text": [
            "[2 3 4]\n",
            "[1 2 3]\n",
            "[4 5]\n",
            "[1 3 5]\n"
          ]
        }
      ]
    },
    {
      "cell_type": "markdown",
      "source": [
        "### Reversing an array"
      ],
      "metadata": {
        "id": "ZH63W-yPH1kd"
      }
    },
    {
      "cell_type": "code",
      "source": [
        "arr = np.array([1,2,3,4,5])\n",
        "arr[::-1]"
      ],
      "metadata": {
        "colab": {
          "base_uri": "https://localhost:8080/"
        },
        "id": "SqQiqks2HmLU",
        "outputId": "00d22a1f-d3b3-4256-f042-6a1b841e1566"
      },
      "execution_count": null,
      "outputs": [
        {
          "output_type": "execute_result",
          "data": {
            "text/plain": [
              "array([5, 4, 3, 2, 1])"
            ]
          },
          "metadata": {},
          "execution_count": 16
        }
      ]
    },
    {
      "cell_type": "markdown",
      "source": [
        "### Slicing of 2D array"
      ],
      "metadata": {
        "id": "1QtqglqSIYf0"
      }
    },
    {
      "cell_type": "code",
      "source": [
        "arr = np.array([[1, 2, 3],\n",
        "                [4, 5, 6],\n",
        "                [7, 8, 9]])\n",
        "print(arr[:, 1])\n",
        "print(arr[1:, :2])"
      ],
      "metadata": {
        "colab": {
          "base_uri": "https://localhost:8080/"
        },
        "id": "kAAoCm_QH6Rk",
        "outputId": "2902d40a-d7e7-483e-ae81-e3e0e81a42dd"
      },
      "execution_count": null,
      "outputs": [
        {
          "output_type": "stream",
          "name": "stdout",
          "text": [
            "[2 5 8]\n",
            "[[4 5]\n",
            " [7 8]]\n"
          ]
        }
      ]
    },
    {
      "cell_type": "markdown",
      "source": [
        "### Integer indexing"
      ],
      "metadata": {
        "id": "BxTnG6eSInz1"
      }
    },
    {
      "cell_type": "code",
      "source": [
        "arr = np.array([1, 2, 3, 4, 5])\n",
        "indices = np.array([0, 2, 4])\n",
        "print(arr[indices])"
      ],
      "metadata": {
        "colab": {
          "base_uri": "https://localhost:8080/"
        },
        "id": "9KodhO0SIRrZ",
        "outputId": "5e2ec61c-2fed-4bd9-c635-915047b8cc5f"
      },
      "execution_count": null,
      "outputs": [
        {
          "output_type": "stream",
          "name": "stdout",
          "text": [
            "[1 3 5]\n"
          ]
        }
      ]
    },
    {
      "cell_type": "markdown",
      "source": [
        "### Boolean indexing"
      ],
      "metadata": {
        "id": "4wVub5q4IxgK"
      }
    },
    {
      "cell_type": "code",
      "source": [
        "arr = np.array([1, 2, 3, 4, 5])\n",
        "mask = arr > 2\n",
        "print(arr[mask])"
      ],
      "metadata": {
        "colab": {
          "base_uri": "https://localhost:8080/"
        },
        "id": "TQ6B5uGeIsak",
        "outputId": "4c01f0b5-5335-42d8-8443-5af8d42e226b"
      },
      "execution_count": null,
      "outputs": [
        {
          "output_type": "stream",
          "name": "stdout",
          "text": [
            "[3 4 5]\n"
          ]
        }
      ]
    },
    {
      "cell_type": "markdown",
      "source": [
        "# any() vs all()"
      ],
      "metadata": {
        "id": "_djZSiFDKO_8"
      }
    },
    {
      "cell_type": "code",
      "source": [
        "import numpy as np\n",
        "\n",
        "arr = np.array([[False, False, False],\n",
        "                [False, True, False],\n",
        "                ])\n",
        "\n",
        "print(np.any(arr))\n",
        "print(np.any(arr, axis=0))\n",
        "print(np.any(arr, axis=1))"
      ],
      "metadata": {
        "colab": {
          "base_uri": "https://localhost:8080/"
        },
        "id": "sVICY_azKK-h",
        "outputId": "c5538fb3-2337-4f24-ea7a-c996eb8f342e"
      },
      "execution_count": null,
      "outputs": [
        {
          "output_type": "stream",
          "name": "stdout",
          "text": [
            "True\n",
            "[False  True False]\n",
            "[False  True]\n"
          ]
        }
      ]
    },
    {
      "cell_type": "code",
      "source": [
        "import numpy as np\n",
        "\n",
        "arr = np.array([[True, True, True],\n",
        "                [False, True, True],\n",
        "                [True, True, True]])\n",
        "\n",
        "print(np.all(arr))\n",
        "print(np.all(arr, axis=0))\n",
        "print(np.all(arr, axis=1))"
      ],
      "metadata": {
        "colab": {
          "base_uri": "https://localhost:8080/"
        },
        "id": "51piNn6yKoSS",
        "outputId": "ba559cda-dafe-4c42-ba04-db195a3a9f51"
      },
      "execution_count": null,
      "outputs": [
        {
          "output_type": "stream",
          "name": "stdout",
          "text": [
            "False\n",
            "[False  True  True]\n",
            "[ True False  True]\n"
          ]
        }
      ]
    },
    {
      "cell_type": "markdown",
      "source": [
        "# Broadcasting"
      ],
      "metadata": {
        "id": "Z6JLZyHfLkuD"
      }
    },
    {
      "cell_type": "markdown",
      "source": [
        "### 1) Broadcasting with scalars"
      ],
      "metadata": {
        "id": "6xwZ1aBYMgMB"
      }
    },
    {
      "cell_type": "code",
      "source": [
        "arr = np.array([1, 2, 3])\n",
        "result = arr + 5\n",
        "print(result)"
      ],
      "metadata": {
        "colab": {
          "base_uri": "https://localhost:8080/"
        },
        "id": "dDBqMqRfLGXS",
        "outputId": "a01464d3-3306-4591-879e-293d75eeaf1a"
      },
      "execution_count": null,
      "outputs": [
        {
          "output_type": "stream",
          "name": "stdout",
          "text": [
            "[6 7 8]\n"
          ]
        }
      ]
    },
    {
      "cell_type": "markdown",
      "source": [
        "### 2) Broadcasting with arrays of different shape"
      ],
      "metadata": {
        "id": "fvEnjxbmMwBx"
      }
    },
    {
      "cell_type": "code",
      "source": [
        "arr1 = np.array([[1, 2, 3],\n",
        "                 [4, 5, 6]])\n",
        "\n",
        "arr2 = np.array([10, 20, 30])\n",
        "\n",
        "result = arr1 + arr2\n",
        "print(result)"
      ],
      "metadata": {
        "colab": {
          "base_uri": "https://localhost:8080/"
        },
        "id": "31ZPW2SPMsOV",
        "outputId": "163145a0-3c9d-401d-ce6a-3c38fe849eae"
      },
      "execution_count": null,
      "outputs": [
        {
          "output_type": "stream",
          "name": "stdout",
          "text": [
            "[[11 22 33]\n",
            " [14 25 36]]\n"
          ]
        }
      ]
    },
    {
      "cell_type": "markdown",
      "source": [
        "# Reshape"
      ],
      "metadata": {
        "id": "0822YVZpNCCC"
      }
    },
    {
      "cell_type": "markdown",
      "source": [
        "### Reshaping to 1D array"
      ],
      "metadata": {
        "id": "O33tVA60NSUS"
      }
    },
    {
      "cell_type": "code",
      "source": [
        "arr = np.array([[1, 2, 3],\n",
        "                [4, 5, 6]])\n",
        "\n",
        "reshaped_arr = arr.reshape((6,))\n",
        "print(reshaped_arr)"
      ],
      "metadata": {
        "colab": {
          "base_uri": "https://localhost:8080/"
        },
        "id": "44Yp9kZPM2Go",
        "outputId": "5a73b3d6-1b51-4ae7-ed06-eb9a76bab2d3"
      },
      "execution_count": null,
      "outputs": [
        {
          "output_type": "stream",
          "name": "stdout",
          "text": [
            "[1 2 3 4 5 6]\n"
          ]
        }
      ]
    },
    {
      "cell_type": "code",
      "source": [
        "print(arr.reshape((-1,)))"
      ],
      "metadata": {
        "colab": {
          "base_uri": "https://localhost:8080/"
        },
        "id": "jxJBcVXGNZqc",
        "outputId": "1c3b0e57-04da-44d8-9b2d-486bc1b6851e"
      },
      "execution_count": null,
      "outputs": [
        {
          "output_type": "stream",
          "name": "stdout",
          "text": [
            "[1 2 3 4 5 6]\n"
          ]
        }
      ]
    },
    {
      "cell_type": "markdown",
      "source": [
        "### Reshaping to 2D array"
      ],
      "metadata": {
        "id": "Ei4c-OwfNpwQ"
      }
    },
    {
      "cell_type": "code",
      "source": [
        "arr = np.array([1, 2, 3, 4, 5, 6])\n",
        "\n",
        "reshaped_arr = arr.reshape((2, 3))\n",
        "print(reshaped_arr)"
      ],
      "metadata": {
        "colab": {
          "base_uri": "https://localhost:8080/"
        },
        "id": "_nHPckbLNfvZ",
        "outputId": "d2d7806d-fee4-47be-f7ec-72db8478a6b6"
      },
      "execution_count": null,
      "outputs": [
        {
          "output_type": "stream",
          "name": "stdout",
          "text": [
            "[[1 2 3]\n",
            " [4 5 6]]\n"
          ]
        }
      ]
    },
    {
      "cell_type": "markdown",
      "source": [
        "### Auto inference of a dimension"
      ],
      "metadata": {
        "id": "h1Oqzr37Nshz"
      }
    },
    {
      "cell_type": "code",
      "source": [
        "arr = np.array([1, 2, 3, 4, 5, 6])\n",
        "\n",
        "reshaped_arr = arr.reshape((2, -1))\n",
        "print(reshaped_arr)"
      ],
      "metadata": {
        "colab": {
          "base_uri": "https://localhost:8080/"
        },
        "id": "KHjtLScSNkHi",
        "outputId": "1486c8ad-768b-44aa-8556-f52976970dce"
      },
      "execution_count": null,
      "outputs": [
        {
          "output_type": "stream",
          "name": "stdout",
          "text": [
            "[[1 2 3]\n",
            " [4 5 6]]\n"
          ]
        }
      ]
    },
    {
      "cell_type": "markdown",
      "source": [
        "# Flatten vs Ravel\n",
        "### Both converts multi-dimensional array into a 1D array"
      ],
      "metadata": {
        "id": "vUPIjIwyN0EJ"
      }
    },
    {
      "cell_type": "markdown",
      "source": [
        "### 1) Flatten(): Returns a copy of the array collapsed into one **dimension**"
      ],
      "metadata": {
        "id": "X08Q8_AJOO64"
      }
    },
    {
      "cell_type": "code",
      "source": [
        "arr = np.array([[1, 2, 3],\n",
        "                [4, 5, 6]])\n",
        "\n",
        "flattened_arr = arr.flatten()\n",
        "print(flattened_arr)"
      ],
      "metadata": {
        "colab": {
          "base_uri": "https://localhost:8080/"
        },
        "id": "ZG3I50ISNnz7",
        "outputId": "6ee92dea-8936-47a2-c0c3-2fa3c574def8"
      },
      "execution_count": null,
      "outputs": [
        {
          "output_type": "stream",
          "name": "stdout",
          "text": [
            "[1 2 3 4 5 6]\n"
          ]
        }
      ]
    },
    {
      "cell_type": "code",
      "source": [
        "# Changes to flattened_arr do not affect arr\n",
        "flattened_arr[0] = 10\n",
        "print(arr)"
      ],
      "metadata": {
        "colab": {
          "base_uri": "https://localhost:8080/"
        },
        "id": "3CAFFl1EOb8f",
        "outputId": "2a00c2e4-b8c8-429a-dcdf-6a2d7a1aa6f8"
      },
      "execution_count": null,
      "outputs": [
        {
          "output_type": "stream",
          "name": "stdout",
          "text": [
            "[[1 2 3]\n",
            " [4 5 6]]\n"
          ]
        }
      ]
    },
    {
      "cell_type": "markdown",
      "source": [
        "### 2) Ravel(): Returns a flattened 1D array as a view of the original array; Changes to ravelled array affects the original array"
      ],
      "metadata": {
        "id": "ZtBBE98OOljd"
      }
    },
    {
      "cell_type": "code",
      "source": [
        "arr = np.array([[1, 2, 3],\n",
        "                [4, 5, 6]])\n",
        "\n",
        "raveled_arr = arr.ravel()\n",
        "print(raveled_arr)"
      ],
      "metadata": {
        "colab": {
          "base_uri": "https://localhost:8080/"
        },
        "id": "AkBeX1SdOfuX",
        "outputId": "808df7db-3957-407f-fd73-f23802582a66"
      },
      "execution_count": null,
      "outputs": [
        {
          "output_type": "stream",
          "name": "stdout",
          "text": [
            "[1 2 3 4 5 6]\n"
          ]
        }
      ]
    },
    {
      "cell_type": "code",
      "source": [
        "# Changes to raveled_arr affect arr\n",
        "raveled_arr[0] = 10\n",
        "print(arr)"
      ],
      "metadata": {
        "colab": {
          "base_uri": "https://localhost:8080/"
        },
        "id": "A-VF6ui4PCfZ",
        "outputId": "1167158c-db0c-4bcc-d6a0-c08a937bca98"
      },
      "execution_count": null,
      "outputs": [
        {
          "output_type": "stream",
          "name": "stdout",
          "text": [
            "[[10  2  3]\n",
            " [ 4  5  6]]\n"
          ]
        }
      ]
    },
    {
      "cell_type": "markdown",
      "source": [
        "# Axis=1 vs Axis=0"
      ],
      "metadata": {
        "id": "efB-ZKvUPH3v"
      }
    },
    {
      "cell_type": "code",
      "source": [
        "arr = np.array([[1, 2, 3],\n",
        "                [4, 5, 6]])\n",
        "\n",
        "print(np.sum(arr, axis=0))"
      ],
      "metadata": {
        "colab": {
          "base_uri": "https://localhost:8080/"
        },
        "id": "hyJbOzxsPEcJ",
        "outputId": "1449ee88-7372-42ae-e8fd-37350d8bcdfc"
      },
      "execution_count": null,
      "outputs": [
        {
          "output_type": "stream",
          "name": "stdout",
          "text": [
            "[5 7 9]\n"
          ]
        }
      ]
    },
    {
      "cell_type": "code",
      "source": [
        "arr = np.array([[1, 2, 3],\n",
        "                [4, 5, 6]])\n",
        "\n",
        "print(np.sum(arr, axis=1))"
      ],
      "metadata": {
        "id": "eSmohyKLRahJ",
        "outputId": "27dcc56b-fe57-4b93-ca94-ebeb471fbef1",
        "colab": {
          "base_uri": "https://localhost:8080/"
        }
      },
      "execution_count": null,
      "outputs": [
        {
          "output_type": "stream",
          "name": "stdout",
          "text": [
            "[ 6 15]\n"
          ]
        }
      ]
    },
    {
      "cell_type": "markdown",
      "source": [
        "# Dot Product"
      ],
      "metadata": {
        "id": "NUUXBCKBRp0g"
      }
    },
    {
      "cell_type": "code",
      "source": [
        "# for 1D array\n",
        "\n",
        "a = np.array([1, 2, 3])\n",
        "b = np.array([4, 5, 6])\n",
        "\n",
        "dot_product = np.dot(a, b)\n",
        "print(dot_product)"
      ],
      "metadata": {
        "id": "U0xkSJdERfMI",
        "colab": {
          "base_uri": "https://localhost:8080/"
        },
        "outputId": "3c474377-432f-47fa-a119-d4f21d7cdb07"
      },
      "execution_count": 40,
      "outputs": [
        {
          "output_type": "stream",
          "name": "stdout",
          "text": [
            "32\n"
          ]
        }
      ]
    },
    {
      "cell_type": "code",
      "source": [
        "# for 2D array; follows matrix multiplication\n",
        "\n",
        "A = np.array([[1, 2],\n",
        "              [3, 4]])\n",
        "\n",
        "B = np.array([[5, 6],\n",
        "              [7, 8]])\n",
        "\n",
        "dot_product = np.dot(A, B)\n",
        "print(dot_product)"
      ],
      "metadata": {
        "colab": {
          "base_uri": "https://localhost:8080/"
        },
        "id": "obIGT220R5sQ",
        "outputId": "7a4b07e5-f80e-4020-df72-4a5653a6fe6a"
      },
      "execution_count": 41,
      "outputs": [
        {
          "output_type": "stream",
          "name": "stdout",
          "text": [
            "[[19 22]\n",
            " [43 50]]\n"
          ]
        }
      ]
    },
    {
      "cell_type": "markdown",
      "source": [
        "# Cross Product"
      ],
      "metadata": {
        "id": "PIIM3U_TSG6J"
      }
    },
    {
      "cell_type": "markdown",
      "source": [
        "1) Cross product for 1D array"
      ],
      "metadata": {
        "id": "P0-2ug0vSnTM"
      }
    },
    {
      "cell_type": "code",
      "source": [
        "a = np.array([1, 0, 0])\n",
        "b = np.array([0, 1, 0])\n",
        "\n",
        "cross_product = np.cross(a, b)\n",
        "print(cross_product)"
      ],
      "metadata": {
        "colab": {
          "base_uri": "https://localhost:8080/"
        },
        "id": "XBMdjKmWSCDa",
        "outputId": "923b5f1b-8887-40e9-ad6e-816cf1a3a9d3"
      },
      "execution_count": 42,
      "outputs": [
        {
          "output_type": "stream",
          "name": "stdout",
          "text": [
            "[0 0 1]\n"
          ]
        }
      ]
    },
    {
      "cell_type": "markdown",
      "source": [
        "# Linalg modules"
      ],
      "metadata": {
        "id": "8gh9x27mS9d4"
      }
    },
    {
      "cell_type": "markdown",
      "source": [
        "## 1) Matrix Decomposition"
      ],
      "metadata": {
        "id": "TQrx7ZkCUImj"
      }
    },
    {
      "cell_type": "code",
      "source": [
        "# QR decomposition\n",
        "\n",
        "A = np.array([[1, 2],\n",
        "              [3, 4]])\n",
        "\n",
        "Q, R = np.linalg.qr(A)\n",
        "print(\"Orthogonal matrix Q:\", Q)\n",
        "print(\"Upper triangular matrix R:\", R)"
      ],
      "metadata": {
        "colab": {
          "base_uri": "https://localhost:8080/"
        },
        "id": "CbpeRcn1Scbo",
        "outputId": "2355e81e-9bc2-4fd5-8996-09ff18838a89"
      },
      "execution_count": 44,
      "outputs": [
        {
          "output_type": "stream",
          "name": "stdout",
          "text": [
            "Orthogonal matrix Q: [[-0.31622777 -0.9486833 ]\n",
            " [-0.9486833   0.31622777]]\n",
            "Upper triangular matrix R: [[-3.16227766 -4.42718872]\n",
            " [ 0.         -0.63245553]]\n"
          ]
        }
      ]
    },
    {
      "cell_type": "code",
      "source": [
        "# Cholesky decomposition\n",
        "\n",
        "A = np.array([[4, 12, -16],\n",
        "              [12, 37, -43],\n",
        "              [-16, -43, 98]])\n",
        "\n",
        "L = np.linalg.cholesky(A)\n",
        "print(\"Lower triangular matrix L:\", L)"
      ],
      "metadata": {
        "colab": {
          "base_uri": "https://localhost:8080/"
        },
        "id": "r3vXv604UUOc",
        "outputId": "b56e9bf1-48a1-4ce9-dd1f-77d7feef1b49"
      },
      "execution_count": 45,
      "outputs": [
        {
          "output_type": "stream",
          "name": "stdout",
          "text": [
            "Lower triangular matrix L: [[ 2.  0.  0.]\n",
            " [ 6.  1.  0.]\n",
            " [-8.  5.  3.]]\n"
          ]
        }
      ]
    },
    {
      "cell_type": "code",
      "source": [
        "# Eigenvalue decomposition\n",
        "\n",
        "A = np.array([[1, 2],\n",
        "              [2, 1]])\n",
        "\n",
        "eigenvalues, eigenvectors = np.linalg.eig(A)\n",
        "print(\"Eigenvalues:\", eigenvalues)\n",
        "print(\"Eigenvectors:\", eigenvectors)"
      ],
      "metadata": {
        "colab": {
          "base_uri": "https://localhost:8080/"
        },
        "id": "OI1c-lGvU_CE",
        "outputId": "7acd775b-beea-4448-f4d2-45afc46e69b4"
      },
      "execution_count": 46,
      "outputs": [
        {
          "output_type": "stream",
          "name": "stdout",
          "text": [
            "Eigenvalues: [ 3. -1.]\n",
            "Eigenvectors: [[ 0.70710678 -0.70710678]\n",
            " [ 0.70710678  0.70710678]]\n"
          ]
        }
      ]
    },
    {
      "cell_type": "code",
      "source": [
        "# SVD Decomposition\n",
        "\n",
        "A = np.array([[1, 2],\n",
        "              [3, 4],\n",
        "              [5, 6]])\n",
        "\n",
        "U, S, V = np.linalg.svd(A)\n",
        "print(\"U:\", U)\n",
        "print(\"S:\", S)\n",
        "print(\"V:\", V)"
      ],
      "metadata": {
        "colab": {
          "base_uri": "https://localhost:8080/"
        },
        "id": "mvrTwS1IVNEZ",
        "outputId": "ef20a744-d8f6-4629-e0f5-e6ebef61f1e8"
      },
      "execution_count": 47,
      "outputs": [
        {
          "output_type": "stream",
          "name": "stdout",
          "text": [
            "U: [[-0.2298477   0.88346102  0.40824829]\n",
            " [-0.52474482  0.24078249 -0.81649658]\n",
            " [-0.81964194 -0.40189603  0.40824829]]\n",
            "S: [9.52551809 0.51430058]\n",
            "V: [[-0.61962948 -0.78489445]\n",
            " [-0.78489445  0.61962948]]\n"
          ]
        }
      ]
    },
    {
      "cell_type": "markdown",
      "source": [
        "# 2) Solving Linear Equations"
      ],
      "metadata": {
        "id": "UFGKgnvkVZob"
      }
    },
    {
      "cell_type": "code",
      "source": [
        "# np.linalg.solve(); solves for x as Ax=b\n",
        "\n",
        "A = np.array([[2, 3],\n",
        "              [4, 5]])\n",
        "\n",
        "b = np.array([1, 2])\n",
        "\n",
        "x = np.linalg.solve(A, b)\n",
        "print(x)"
      ],
      "metadata": {
        "colab": {
          "base_uri": "https://localhost:8080/"
        },
        "id": "wLHOG-skVTno",
        "outputId": "64609c81-a7ce-4a02-e161-754774be4592"
      },
      "execution_count": 48,
      "outputs": [
        {
          "output_type": "stream",
          "name": "stdout",
          "text": [
            "[0.5 0. ]\n"
          ]
        }
      ]
    },
    {
      "cell_type": "code",
      "source": [
        "# np.linalg.lstsq(); solves the linear least square problems\n",
        "\n",
        "A = np.array([[1, 2],\n",
        "              [3, 4],\n",
        "              [5, 6]])\n",
        "\n",
        "b = np.array([3, 7, 11])\n",
        "\n",
        "x, residuals, rank, singular_values = np.linalg.lstsq(A, b, rcond=None)\n",
        "print(\"Least-squares solution:\", x)\n",
        "print(\"Residuals:\", residuals)\n",
        "print(\"Rank of matrix:\", rank)\n",
        "print(\"Singular values:\", singular_values)"
      ],
      "metadata": {
        "colab": {
          "base_uri": "https://localhost:8080/"
        },
        "id": "JZSLZwbNWRLr",
        "outputId": "5ef24450-0df0-4c26-ae81-7479cb2d4773"
      },
      "execution_count": 49,
      "outputs": [
        {
          "output_type": "stream",
          "name": "stdout",
          "text": [
            "Least-squares solution: [1. 1.]\n",
            "Residuals: [1.23259516e-32]\n",
            "Rank of matrix: 2\n",
            "Singular values: [9.52551809 0.51430058]\n"
          ]
        }
      ]
    },
    {
      "cell_type": "markdown",
      "source": [
        "# Matrix Norms"
      ],
      "metadata": {
        "id": "_zavJ3y3ZXVg"
      }
    },
    {
      "cell_type": "code",
      "source": [
        "# Frobenius Norm\n",
        "\n",
        "A = np.array([[1, 2],\n",
        "              [3, 4]])\n",
        "\n",
        "frobenius_norm = np.linalg.norm(A, ord='fro')\n",
        "print(\"Frobenius Norm:\", frobenius_norm)"
      ],
      "metadata": {
        "colab": {
          "base_uri": "https://localhost:8080/"
        },
        "id": "XmMqUH9yWfrC",
        "outputId": "295b32a5-63be-4ba5-df26-a0701306ccad"
      },
      "execution_count": 50,
      "outputs": [
        {
          "output_type": "stream",
          "name": "stdout",
          "text": [
            "Frobenius Norm: 5.477225575051661\n"
          ]
        }
      ]
    },
    {
      "cell_type": "code",
      "source": [
        "# L1 Norm\n",
        "\n",
        "A = np.array([[1, 2],\n",
        "              [3, 4]])\n",
        "\n",
        "l1_norm = np.linalg.norm(A, ord=1)\n",
        "print(\"L1 Norm:\", l1_norm)"
      ],
      "metadata": {
        "colab": {
          "base_uri": "https://localhost:8080/"
        },
        "id": "czx_bQuUZieb",
        "outputId": "47dc0f95-1dd9-4b63-b207-089f093da4e7"
      },
      "execution_count": 53,
      "outputs": [
        {
          "output_type": "stream",
          "name": "stdout",
          "text": [
            "L1 Norm: 6.0\n"
          ]
        }
      ]
    },
    {
      "cell_type": "code",
      "source": [
        "# L2 Norm\n",
        "\n",
        "A = np.array([[1, 2],\n",
        "              [3, 4]])\n",
        "\n",
        "l2_norm = np.linalg.norm(A, ord=2)\n",
        "print(\"L2 Norm:\", l2_norm)"
      ],
      "metadata": {
        "colab": {
          "base_uri": "https://localhost:8080/"
        },
        "id": "zsEY6iykZsOQ",
        "outputId": "7bbb96d6-2626-415a-beb6-794c1dfb7239"
      },
      "execution_count": 54,
      "outputs": [
        {
          "output_type": "stream",
          "name": "stdout",
          "text": [
            "L2 Norm: 5.464985704219043\n"
          ]
        }
      ]
    },
    {
      "cell_type": "markdown",
      "source": [
        "# Determinant"
      ],
      "metadata": {
        "id": "mvBzzevhaSH7"
      }
    },
    {
      "cell_type": "code",
      "source": [
        "A = np.array([[1, 2],\n",
        "              [3, 4]])\n",
        "\n",
        "determinant = np.linalg.det(A)\n",
        "print(\"Determinant:\", determinant)"
      ],
      "metadata": {
        "colab": {
          "base_uri": "https://localhost:8080/"
        },
        "id": "Ice-vajqZ2us",
        "outputId": "cbdefcd1-771d-4b38-e12f-8527221ad8e1"
      },
      "execution_count": 55,
      "outputs": [
        {
          "output_type": "stream",
          "name": "stdout",
          "text": [
            "Determinant: -2.0000000000000004\n"
          ]
        }
      ]
    },
    {
      "cell_type": "markdown",
      "source": [
        "# Matrix Inverse"
      ],
      "metadata": {
        "id": "VqxRmVbXagN_"
      }
    },
    {
      "cell_type": "code",
      "source": [
        "A = np.array([[1, 2],\n",
        "              [3, 4]])\n",
        "\n",
        "A_inv = np.linalg.inv(A)\n",
        "print(\"Inverse of A:\")\n",
        "print(A_inv)"
      ],
      "metadata": {
        "colab": {
          "base_uri": "https://localhost:8080/"
        },
        "id": "0vV4inVMaXcS",
        "outputId": "c6b712ec-973a-467b-d401-9bcf6b134e54"
      },
      "execution_count": 56,
      "outputs": [
        {
          "output_type": "stream",
          "name": "stdout",
          "text": [
            "Inverse of A:\n",
            "[[-2.   1. ]\n",
            " [ 1.5 -0.5]]\n"
          ]
        }
      ]
    },
    {
      "cell_type": "markdown",
      "source": [
        "# eye(): creates an identity matrix"
      ],
      "metadata": {
        "id": "mGO5itERaqsc"
      }
    },
    {
      "cell_type": "code",
      "source": [
        "identity_3x3 = np.eye(3)\n",
        "print(\"2x2 Identity Matrix:\")\n",
        "print(identity_3x3)"
      ],
      "metadata": {
        "colab": {
          "base_uri": "https://localhost:8080/"
        },
        "id": "3EhaYCGYakAH",
        "outputId": "6357edfa-61d0-4252-da95-8dd8e0efee90"
      },
      "execution_count": 59,
      "outputs": [
        {
          "output_type": "stream",
          "name": "stdout",
          "text": [
            "2x2 Identity Matrix:\n",
            "[[1. 0. 0.]\n",
            " [0. 1. 0.]\n",
            " [0. 0. 1.]]\n"
          ]
        }
      ]
    },
    {
      "cell_type": "code",
      "source": [],
      "metadata": {
        "id": "-FZr3PIxbsde"
      },
      "execution_count": null,
      "outputs": []
    }
  ]
}